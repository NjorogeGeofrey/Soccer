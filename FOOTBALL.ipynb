{
 "cells": [
  {
   "cell_type": "code",
   "execution_count": 4,
   "metadata": {},
   "outputs": [],
   "source": [
    "# INSTALL AND LOAD LIBRARY\n",
    "\n",
    "\n",
    "library(ggsoccer)\n",
    "library(ggplot2)\n"
   ]
  },
  {
   "cell_type": "code",
   "execution_count": 5,
   "metadata": {},
   "outputs": [],
   "source": [
    "# BLANK SOCCER PITCH\n",
    "\n",
    "ggplot() +\n",
    "  annotate_pitch() +\n",
    "  theme_pitch()"
   ]
  },
  {
   "cell_type": "code",
   "execution_count": 6,
   "metadata": {},
   "outputs": [],
   "source": [
    "\n",
    "# SOCCER PITCH COLOR\n",
    "\n",
    "ggplot() +\n",
    "  annotate_pitch(fill = \"#1b893e\", colour = \"white\") +\n",
    "  theme_pitch() +\n",
    "  theme(panel.background = element_rect(fill = \"#186d33\")) "
   ]
  },
  {
   "cell_type": "code",
   "execution_count": 7,
   "metadata": {},
   "outputs": [],
   "source": [
    "# SHOT MAP\n",
    "\n",
    "set.seed(1)\n",
    "dataFrame <- data.frame(x = rnorm(10, 85, 10), \n",
    "                 y = rnorm(10, 55, 20),\n",
    "                 Shots = sample(c(\"IN\", \"OUT\"),\n",
    "                               40, replace = TRUE))\n"
   ]
  },
  {
   "cell_type": "code",
   "execution_count": 8,
   "metadata": {},
   "outputs": [
    {
     "data": {
      "text/plain": [
       "          x        y Shots\n",
       "1  78.73546 85.23562   OUT\n",
       "2  86.83643 62.79686   OUT\n",
       "3  76.64371 42.57519    IN\n",
       "4 100.95281 10.70600   OUT\n",
       "5  88.29508 77.49862   OUT\n",
       "6  76.79532 54.10133   OUT"
      ]
     },
     "execution_count": null,
     "metadata": {},
     "output_type": "execute_result"
    }
   ],
   "source": [
    "head(dataFrame)"
   ]
  },
  {
   "cell_type": "code",
   "execution_count": 9,
   "metadata": {},
   "outputs": [],
   "source": [
    "ggplot(dataFrame) +\n",
    "  annotate_pitch(fill = \"#1b893e\", colour = \"white\") +\n",
    "  geom_point(aes(x = x, y = y, fill = Shots), shape = 21, size = 7) +\n",
    "  coord_cartesian(xlim = c(40, 100))+ \n",
    "  theme_pitch() +\n",
    "  theme(panel.background = element_rect(fill = \"#186d33\")) "
   ]
  },
  {
   "cell_type": "code",
   "execution_count": 10,
   "metadata": {},
   "outputs": [],
   "source": [
    "# PASSING MAP\n",
    "\n",
    "passing <- data.frame(x1 = c(50, 0, 18, 50, 63, 66),\n",
    "                   x2 = c(20, 13, 47, 55, 68, 78),\n",
    "                   y1 = c(80, 39, 62, 37, 18, 70),\n",
    "                   y2 = c(90, 63, 37, 20, 68, 90))\n"
   ]
  },
  {
   "cell_type": "code",
   "execution_count": 11,
   "metadata": {},
   "outputs": [],
   "source": [
    "ggplot(passing) +\n",
    "  annotate_pitch(fill = \"#1b893e\", colour = \"white\") +\n",
    "  geom_segment(aes(x = x1, y = y1, xend = x2, yend = y2), colour = \"blue\",\n",
    "               arrow = arrow(length = unit(0.6, \"cm\"), type = \"closed\")) +\n",
    "  theme_pitch() +\n",
    "  theme(panel.background = element_rect(fill = \"#186d33\")) "
   ]
  },
  {
   "cell_type": "code",
   "execution_count": 12,
   "metadata": {},
   "outputs": [],
   "source": [
    "# SOCCER PITCH DIMENSIONS\n",
    "\n",
    "dimension <- list(length = 150, width = 60, penalty_box_length = 20,\n",
    "  penalty_box_width = 40, six_yard_box_length = 3, six_yard_box_width = 12,\n",
    "  penalty_spot_distance = 6, goal_width = 8, origin_x = 0, origin_y = 0)"
   ]
  },
  {
   "cell_type": "code",
   "execution_count": 13,
   "metadata": {},
   "outputs": [
    {
     "name": "stderr",
     "output_type": "stream",
     "text": [
      "Warning messages:\n",
      "1: Penalty box arc does not intersect with penalty box and won't appear with the current dimensions \n",
      "2: Penalty box arc does not intersect with penalty box and won't appear with the current dimensions \n"
     ]
    }
   ],
   "source": [
    "ggplot() +\n",
    "  annotate_pitch(dimension = dimension, fill = \"#13576c\", colour = \"white\") +\n",
    "  theme_pitch() +\n",
    "  theme(panel.background = element_rect(fill = \"#1f86a5\")) "
   ]
  }
 ],
 "metadata": {
  "language_info": {
   "name": "r"
  }
 },
 "nbformat": 4,
 "nbformat_minor": 2
}
